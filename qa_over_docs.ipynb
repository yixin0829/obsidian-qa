{
 "cells": [
  {
   "attachments": {},
   "cell_type": "markdown",
   "metadata": {},
   "source": [
    "# Overview\n",
    "\n",
    "Question answering over documents consists of four steps:\n",
    "1. Create an index\n",
    "2. Create a Retriever from that index\n",
    "3. Create a question answering chain\n",
    "4. Ask questions!"
   ]
  },
  {
   "attachments": {},
   "cell_type": "markdown",
   "metadata": {},
   "source": [
    "# 1 Create an index\n",
    "Okay, so what’s actually going on? How is this index getting created? A lot of the magic is being hid in this VectorstoreIndexCreator. What is this doing?\n",
    "\n",
    "There are three main steps going on after the documents are loaded (inside `VectorstoreIndexCreator`):\n",
    "1. Splitting documents into chunks\n",
    "2. Creating embeddings for each document\n",
    "3. Storing documents and embeddings in a vectorstore"
   ]
  },
  {
   "cell_type": "code",
   "execution_count": 1,
   "metadata": {},
   "outputs": [
    {
     "name": "stderr",
     "output_type": "stream",
     "text": [
      "100%|██████████| 419/419 [00:03<00:00, 120.18it/s]"
     ]
    },
    {
     "name": "stdout",
     "output_type": "stream",
     "text": [
      "len of docs 419\n"
     ]
    },
    {
     "name": "stderr",
     "output_type": "stream",
     "text": [
      "\n"
     ]
    }
   ],
   "source": [
    "from langchain.chains import RetrievalQA\n",
    "from langchain.llms import OpenAI\n",
    "from langchain.document_loaders import DirectoryLoader\n",
    "from langchain.indexes import VectorstoreIndexCreator\n",
    "from pathlib import Path\n",
    "\n",
    "loader = DirectoryLoader(\"Obsidian_DB/\", glob=\"**/*.md\", show_progress=True)\n",
    "docs = loader.load()\n",
    "print(f\"len of docs {len(docs)}\")"
   ]
  },
  {
   "cell_type": "code",
   "execution_count": 2,
   "metadata": {},
   "outputs": [
    {
     "data": {
      "text/plain": [
       "{'page_content': 'start_dt: 2022-05-31\\nend_dt:\\ntags: project/life\\n\\nProject Zero\\n\\nLinks:\\n\\n1 Overview\\n\\nBoost personal health (physical and sexual) through a trail of exercise and routines\\n\\n2 Routines\\n\\nEat 3 dark chocolates every day with lunch\\n\\nCold shower\\n\\n3 Fitness\\n\\n| Day of Week | Plan     |\\n| ----------- | -------- |\\n| Mon         | Workout  |\\n| Tue         | Run      |\\n| Wed         | Rest     |\\n| Thu         | Workout  |\\n| Fri         | Rest     |\\n| Sat         | Workout  |\\n| Sun         | Long run |\\n\\n4 Log\\n\\nFeb 28 Tur shoulder and chest\\nWarmup\\nMachine declined shoulder press lvl 10 6x3\\nmachine shoulder press lvl 6 6x3\\nPull ups 5x3\\nRunning 1.5 miles\\n\\nFeb 15 Wed\\nShoulder press 30ib 6 x3\\ncore training v shape 10x 3\\nkettle swinging 10 x 3\\n\\nJan 19 thur\\nBench press DB 35ib\\nBar shoulder lift 5ib each side\\nCycle gear 14 for 45 min (hr 150)\\n\\nJan 17 Tue\\nRun 30 min\\nGoal: run 3 hours every week\\n\\nJan 14  (w/ Mymy and Julien)\\nSlope 7-9 speed 4 brisk walk for 40 min\\nCore training\\n\\nDec 17 shoulder and arms\\nWarmup run\\n\\nDec 11 Swim 1200m\\n\\nDec 8 full body tuning\\nDb bench 25ib 3x10, arms, back, legs, abs\\n\\nNov8 sat chest and back\\n2x10 25ib  2x8 35ib DB bench\\n3x10 20ib inclined DB bench\\n3x10 lvl4 machine shoulder press\\n3x10 lvl6 back machines pullups\\nStretch\\n\\nThu run + legs\\nTreadmill 10km/h pace tempo 165bpm heart rate for 25min 5min wamup and cooldown\\nInner thigh machine 3x10\\nOut\\n\\nTue chest and back\\n1x15 20ib\\n3x8.5 40ib DB bench\\n3x8.5 25ib inclineDB\\n3x8.5 lvl6 machine lift\\n3x2x10 50ib DB single hand bench back lift\\n3x10 lvl9 Inner back machine pull with double knot\\nHanging stretching\\n\\nSaturday\\n1x15 20ib warmup\\n3x10 35ib DB bench\\n3x10 20ib DB Bench inclined\\n3x10 lvl10 machine fly\\n3x5 Pull ups mixed\\n3x10 hanging leg lift\\n\\nTue chest and back\\n1x15 20ib warmup\\n3x8.5 35ib bench\\n3x10 25ib bench incline\\n3x10 lvl10 machine fly (x)\\n3x10 lvl6 machine shoulder lift (x)\\n\\nSat arms\\n1x10 25ib 3x10 30ib DB hammer sit\\nDB bench sit incline curl iso 3x10 20ib\\n3x10 triceps standand curl 20ib both blhands\\n3x10 machine triceps pull down lvl10\\n3x10 forward lift DB 20->25ib\\n3x10 delta side forward 8->10ib\\n3x5 underhang pullups\\n\\nThu legs\\nDB single squat 4x10 55ib\\nForward squats 3x10 2x30ib\\nDB deadlift 3x5 2x55ib \\nSingle calf lift 4x2x15 50ib\\nInner thign machine 3x10 lvl8\\nOuter thign machine 3x10 lvl8\\nSquat machine super set 2x5 lvl12\\n\\nTue Chest and back\\n20ib 1x15 warmup chest\\n3x10 35ib bencch DB press\\n3x10 25ib bench incline DB\\n3x10 15ib single arm DB lower chest lift\\n1.5x 10Machine shoulder lift lvl6\\n3x6 underhang pullups\\n3x10 Ab wheel\\n3x10 back reverse fly 15lvl\\n\\nSunday long run\\n\\nThu Arms\\n1x10 25ib 3x10 30ib DB hammer sit\\nDB bench sit incline curl iso 3x10 20ib\\n3x10 triceps standind curl 20ib both blhands\\n3x10 forward lift DB 20ib\\n3x10 delta side forward 8->10ib\\n3x5 underhang pullups\\n\\nTue Chest and back\\n20ib warmup 1x15\\n3x10 DB 35ib\\n3x10 DB bench incline 25ib\\n3x6 underhang pullups\\n3x10 machines rowing lvl11\\n1.2x10 chest dip\\n1x10Leg raise\\nStretch\\n\\nSunday long run 10k 5:40\\n\\nFriday Arms\\n3x10 25ib 1x1030ib DB hammer sit\\nDB bench sit incline curl iso 3x10 20ib\\n3x10 triceps standind curl 20ib both blhands\\n3x10 triceps dip body weight\\n\\nWed chest + back\\nDB warmup 1x15 20ib\\n3x10 35ib bench flat DB\\n3x10 1x25ib 2x20ib bench inclined DB\\n3x6 underpullup\\n3x10 chest dip\\n3x10 DB back bench pull 45 ib\\n3x10 10ib incline bench reverse fly for back\\n3x10 leg raise\\n\\nSat Arms\\nDB warmup 20ib + 2x10 25 ib hammer + 1x10 30ib\\nDB bench sit incline curl iso 3x10 20ib\\n3x10 triceps standind curl 20ib both blhands\\n3x10 machine triceps bar pull lvl9\\nDelta side forward 3x10 8ib\\nDelta forward 3x10 20ib\\nMachine biceps curl 3x10 lvl6\\n\\nFriday Chest and Back\\nPec chest machine 1x10 warmup\\nChest fly machine 3x10 lvl10\\nChest incline machine 3x10 lvl8\\nHoist lower chest fly3x10 lvl3\\nMachine pullups 3x10 lvl8\\nMachine row 3x8 lvl6\\nStretch\\n\\nThu legs\\nDB single squat 4x10 50ib\\nForward squats 3x10 2x30ib\\nDB deadlift 3x5 2x55ib \\nSingle calf lift 4x2x15 50ib\\nInner thign machine 3x10 lvl8\\nOuter thign machine 3x10 lvl8\\nSquat machine super set 2x5 lvl12\\n\\nTue Chest + back + rock climbing\\n1x15 20ib warmup\\n3x10 35ib bench flat DB\\n3x10 20ib bench inclined DB\\n3x5 underpullup\\n3x10 DB back bench pull 45 ib\\n2000m rowing machine\\n\\nSat Arms\\nDB Hammer 3x10 25ib\\nDB bench curl 3x10 20ib\\n3x10 triceps standind curl 20ib both blhands\\n3x10 machine triceps pull lvl9\\nDelta side forward 3x10 8ib\\nDelta forward 3x10 15ib\\nBench dip 3x10\\nMachine biceps curl 3x10 lvl6\\n\\nThu legs\\nDB single squat 4x10 50ib\\nForward lunge squats 3x10 2x20ib\\nDB deadlift 3x6 2x50ib \\nSingle calf lift 4x2x15 50ib\\nSquat machine super set 2x5 lvl12\\n\\nTue Chest and back\\n1x15 20ib bench warmup\\n3x10 35ib bench DB\\n3x10 15ib bench incline\\n3x10 lower chest double pull on Hoist lvl3\\nUnderhang pullups 3x6 body weight \\nMachine pullups 3x8 lvl8\\nMachine row 3x8 lvl6\\nStretch\\n\\nSun Arms\\n15 reps 1 set 15 bench curl warmup\\n3x10 25 DB hammer\\n3x10 triceps laying curl 20ib both blhands\\nDelta side forward 3x10 8ib\\nDelta forward 3x10 15ib\\nBench dip 3x10\\nMachine bar curl 3x 10 lvl6\\nMachine triceps 3x10 lvl7\\nHanging leg spin 3x10\\n\\nFriday Aug 19 chest and back\\nWarmup 1x12 25 ib\\nBench DB press 3x10 35 ib\\nIncline bench DB 3x10 15ib\\nBench DB lower chest raise 3x10 25ib\\nbiceps pullups 3x5 body weight \\nMachine pullups 3x8 lvl8\\n\\nWed Aug 17 legs\\nDB squat 4x10 50ib hold middle\\nDB matrix 3x5 groups 15 ib each hand\\nDeadlift 50ibx2 3x6\\nSingle Calf lift 3x12 50ib\\nQuad machine 3x10 lvl9\\nHammer string machine 3 x10 lvl 9\\n\\nMon Aug 15 Arms\\nSingle arm bench curl 12+ 3x10 20ib\\nTricep laying curl 3x10 20ib\\nDleta forward 3x 10 8ib\\nSit two sides 3x8 8ib\\nBench dip 3x10\\nMachine bar curl 3x10 lvl6\\nMachine bar tricep pull 3x10 lvl7\\nDeadhang leg curl 3x10\\n\\nSun Aug 14\\nLong run 7k\\n\\nSat Aug 13\\nBench 1x 15 20ib warm up\\nBench 3x10 30ib \\nIncline bench 3x8 20ib\\nShoulder press machine 3x8 level 5\\nPull-ups 3x5\\nHanging Legs swing 3x8',\n",
       " 'metadata': {'source': 'Obsidian_DB/01-Project/fitness-log.md'}}"
      ]
     },
     "execution_count": 2,
     "metadata": {},
     "output_type": "execute_result"
    }
   ],
   "source": [
    "# Each Document object has two fields: page_content and metadata\n",
    "dict(docs[0])"
   ]
  },
  {
   "cell_type": "code",
   "execution_count": 8,
   "metadata": {},
   "outputs": [
    {
     "name": "stderr",
     "output_type": "stream",
     "text": [
      "100%|██████████| 419/419 [00:02<00:00, 147.25it/s]\n"
     ]
    },
    {
     "name": "stdout",
     "output_type": "stream",
     "text": [
      "<langchain.vectorstores.chroma.Chroma object at 0x7f826be583d0>\n",
      "vectorstore=<langchain.vectorstores.chroma.Chroma object at 0x7f826be583d0> search_type='similarity' search_kwargs={}\n"
     ]
    }
   ],
   "source": [
    "# By default, LangChain uses Chroma as the vectorstore to index and search embeddings.\n",
    "index = VectorstoreIndexCreator().from_loaders([loader]) # return `VectorStoreIndexWrapper`\n",
    "\n",
    "# Check package used for creating the vector store\n",
    "print(index.vectorstore)\n",
    "# Check Retriever (how to find answer)\n",
    "print(index.vectorstore.as_retriever())"
   ]
  },
  {
   "attachments": {},
   "cell_type": "markdown",
   "metadata": {},
   "source": [
    "# 2 Create a Retriever from index\n",
    "\n",
    "Logic is included in `query_with_sources`\n"
   ]
  },
  {
   "attachments": {},
   "cell_type": "markdown",
   "metadata": {},
   "source": [
    "# 3 Create a question answering chain\n",
    "\n",
    "Used `RetrievalQAWithSourcesChain`"
   ]
  },
  {
   "attachments": {},
   "cell_type": "markdown",
   "metadata": {},
   "source": [
    "# 4 Ask questions!"
   ]
  },
  {
   "cell_type": "code",
   "execution_count": 11,
   "metadata": {},
   "outputs": [
    {
     "data": {
      "text/plain": [
       "{'question': \"What's a vector storage?\",\n",
       " 'answer': ' A vector storage is a set of vectors closed under addition and scalar multiplication.\\n',\n",
       " 'sources': 'Obsidian_DB/02-SlipBox/Vector Space.md'}"
      ]
     },
     "execution_count": 11,
     "metadata": {},
     "output_type": "execute_result"
    }
   ],
   "source": [
    "# By default query_with_sources uses OpenAI text-davinci-001 to generate answer\n",
    "index.query_with_sources(\"What's a vector storage?\", llm=OpenAI(temperature=0))"
   ]
  },
  {
   "cell_type": "code",
   "execution_count": 17,
   "metadata": {},
   "outputs": [
    {
     "data": {
      "text/plain": [
       "{'question': \"What's the difference between word error rate (WER) and BLEU score?\",\n",
       " 'answer': ' Word Error Rate (WER) is a metric used to evaluate speech recognition models, while BLEU Score is a metric used to evaluate machine translation models. WER is computed using the Levenshtein Distance Algorithm, while BLEU Score is computed using a brevity penalty and n-gram precision.\\n',\n",
       " 'sources': 'Obsidian_DB/02-SlipBox/WER.md, Obsidian_DB/02-SlipBox/BLEU Score.md, Obsidian_DB/02-SlipBox/Levenshtein Distance Algorithm.md, Obsidian_DB/02-SlipBox/ML Model Evaluation.md'}"
      ]
     },
     "execution_count": 17,
     "metadata": {},
     "output_type": "execute_result"
    }
   ],
   "source": [
    "index.query_with_sources(\"What's the difference between word error rate (WER) and BLEU score?\")"
   ]
  },
  {
   "cell_type": "code",
   "execution_count": 12,
   "metadata": {},
   "outputs": [
    {
     "name": "stdout",
     "output_type": "stream",
     "text": [
      "2023-06-01 18:14.29.330768 [info     ] Trace: http://0.0.0.0:8935/traces/01H1WGDKPJ541YG98G6SNTAAFB\n",
      "2023-06-01 18:14.29.387791 [info     ] Starting server, set OUGHT_ICE_AUTO_SERVER=0 to disable.\n",
      "2023-06-01 18:14.29.825481 [info     ] Server started! Run `python -m ice.server stop` to stop it.\n",
      "Rendering http://127.0.0.1:8935/traces/01H1WGDKPJ541YG98G6SNTAAFB in notebook\n"
     ]
    },
    {
     "data": {
      "text/html": [
       "\n",
       "        <iframe\n",
       "            width=\"1000\"\n",
       "            height=\"500\"\n",
       "            src=\"http://127.0.0.1:8935/traces/01H1WGDKPJ541YG98G6SNTAAFB\"\n",
       "            frameborder=\"0\"\n",
       "            allowfullscreen\n",
       "            \n",
       "        ></iframe>\n",
       "        "
      ],
      "text/plain": [
       "<IPython.lib.display.IFrame at 0x7f814e334040>"
      ]
     },
     "execution_count": 12,
     "metadata": {},
     "output_type": "execute_result"
    },
    {
     "name": "stdout",
     "output_type": "stream",
     "text": [
      "\u001b[1m{\u001b[0m\n",
      "    \u001b[32m'question'\u001b[0m: \u001b[32m\"what's NLP?\"\u001b[0m,\n",
      "    \u001b[32m'answer'\u001b[0m: \u001b[32m' Natural Language Processing \u001b[0m\u001b[32m(\u001b[0m\u001b[32mNLP\u001b[0m\u001b[32m)\u001b[0m\u001b[32m is a process where we learn statistics of language using different means \u001b[0m\u001b[32m(\u001b[0m\u001b[32mfrequentist counting method, Bayesian statistics, neural language models\u001b[0m\u001b[32m)\u001b[0m\u001b[32m.\\n'\u001b[0m,\n",
      "    \u001b[32m'sources'\u001b[0m: \u001b[32m'Obsidian_DB/02-SlipBox/NLP.md'\u001b[0m\n",
      "\u001b[1m}\u001b[0m\n"
     ]
    }
   ],
   "source": [
    "from langchain_visualizer.jupyter import visualize\n",
    "\n",
    "async def qa_with_docs():\n",
    "    return index.query_with_sources(\"what's NLP?\")\n",
    "\n",
    "visualize(qa_with_docs)"
   ]
  }
 ],
 "metadata": {
  "kernelspec": {
   "display_name": "notion-qa",
   "language": "python",
   "name": "python3"
  },
  "language_info": {
   "codemirror_mode": {
    "name": "ipython",
    "version": 3
   },
   "file_extension": ".py",
   "mimetype": "text/x-python",
   "name": "python",
   "nbconvert_exporter": "python",
   "pygments_lexer": "ipython3",
   "version": "3.10.11"
  },
  "orig_nbformat": 4
 },
 "nbformat": 4,
 "nbformat_minor": 2
}
